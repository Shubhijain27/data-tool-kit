{
 "cells": [
  {
   "cell_type": "markdown",
   "id": "8d73f652",
   "metadata": {},
   "source": [
    "Practical Questions:\n",
    "\n",
    "\n",
    "1. Create a 3x3 NumPy array with random integers between 1 and 100. Then, interchange its rows and columns.\n",
    "\n",
    "\n",
    "2. Generate a 1D NumPy array with 10 elements. Reshape it into a 2x5 array, then into a 5x2 array.\n",
    "\n",
    "\n",
    "3. Create a 4x4 NumPy array with random float values. Add a border of zeros around it, resulting in a 6x6 array.\n",
    "\n",
    "\n",
    "4. Using NumPy, create an array of integers from 10 to 60 with a step of 5.\n",
    "\n",
    "\n",
    "5. Create a NumPy array of strings ['python', 'numpy', 'pandas']. Apply different case transformations\n",
    "(uppercase, lowercase, title case, etc.) to each element.\n",
    "\n",
    "\n",
    "6. Generate a NumPy array of words. Insert a space between each character of every word in the array.\n",
    "\n",
    "\n",
    "7. Create two 2D NumPy arrays and perform element-wise addition, subtraction, multiplication, and division.\n",
    "\n",
    "\n",
    "8. Use NumPy to create a 5x5 identity matrix, then extract its diagonal elements.\n",
    "\n",
    "\n",
    "9. Generate a NumPy array of 100 random integers between 0 and 1000. Find and display all prime numbers in\n",
    "this array.\n",
    "\n",
    "\n",
    "10. Create a NumPy array representing daily temperatures for a month. Calculate and display the weekly\n",
    "averages."
   ]
  },
  {
   "cell_type": "code",
   "execution_count": 1,
   "id": "b919c1f5",
   "metadata": {},
   "outputs": [],
   "source": [
    "import numpy as np"
   ]
  },
  {
   "cell_type": "code",
   "execution_count": 63,
   "id": "5ca9b8a8",
   "metadata": {},
   "outputs": [
    {
     "name": "stdout",
     "output_type": "stream",
     "text": [
      "Original array:\n",
      " [[92 44 65]\n",
      " [22 50 80]\n",
      " [33 29 37]]\n",
      "('Transposed array:\\n', array([[92, 22, 33],\n",
      "       [44, 50, 29],\n",
      "       [65, 80, 37]]))\n"
     ]
    }
   ],
   "source": [
    "arr1 = np.random.randint(1,101,size = (3,3))\n",
    "print(\"Original array:\\n\", arr1)\n",
    "\n",
    "transpose_Arr = arr1.T\n",
    "print((\"Transposed array:\\n\", transpose_Arr))"
   ]
  },
  {
   "cell_type": "code",
   "execution_count": 15,
   "id": "9a7ac1b5",
   "metadata": {},
   "outputs": [
    {
     "name": "stdout",
     "output_type": "stream",
     "text": [
      "Original 1D array:\n",
      " [0 1 2 3 4 5 6 7 8 9]\n",
      "Reshaped to 2x5:\n",
      " [[0 1 2 3 4]\n",
      " [5 6 7 8 9]]\n",
      "Reshaped to 5x2:\n",
      " [[0 1]\n",
      " [2 3]\n",
      " [4 5]\n",
      " [6 7]\n",
      " [8 9]]\n"
     ]
    }
   ],
   "source": [
    "arr = np.arange(10)\n",
    "print(\"Original 1D array:\\n\", arr)\n",
    "\n",
    "reshaped_2x5 = arr.reshape(2, 5)\n",
    "print(\"Reshaped to 2x5:\\n\", reshaped_2x5)\n",
    "\n",
    "reshaped_5x2 = arr.reshape(5, 2)\n",
    "print(\"Reshaped to 5x2:\\n\", reshaped_5x2)\n"
   ]
  },
  {
   "cell_type": "markdown",
   "id": "915867a5",
   "metadata": {},
   "source": [
    "arr2 = np.array([1,2,3,4,5,6,7,8,9,10])\n",
    "\n",
    "this is also the way to create array of 10 elements .\n"
   ]
  },
  {
   "cell_type": "code",
   "execution_count": 23,
   "id": "003b0148",
   "metadata": {},
   "outputs": [
    {
     "name": "stdout",
     "output_type": "stream",
     "text": [
      "Original 4x4 array:\n",
      " [[0.25387777 0.5577343  0.58560634 0.01476329]\n",
      " [0.24678336 0.48145387 0.16041498 0.62833383]\n",
      " [0.67590203 0.25974731 0.34746581 0.56283304]\n",
      " [0.31824349 0.83355736 0.4820058  0.42227685]]\n",
      "6x6 array with border:\n",
      " [[0.         0.         0.         0.         0.         0.        ]\n",
      " [0.         0.25387777 0.5577343  0.58560634 0.01476329 0.        ]\n",
      " [0.         0.24678336 0.48145387 0.16041498 0.62833383 0.        ]\n",
      " [0.         0.67590203 0.25974731 0.34746581 0.56283304 0.        ]\n",
      " [0.         0.31824349 0.83355736 0.4820058  0.42227685 0.        ]\n",
      " [0.         0.         0.         0.         0.         0.        ]]\n"
     ]
    }
   ],
   "source": [
    "arr = np.random.rand(4, 4)\n",
    "print(\"Original 4x4 array:\\n\", arr)\n",
    "\n",
    "padded = np.pad(arr, pad_width=1, mode='constant', constant_values=0)\n",
    "print(\"6x6 array with border:\\n\", padded)\n"
   ]
  },
  {
   "cell_type": "code",
   "execution_count": 28,
   "id": "7ff23fd1",
   "metadata": {},
   "outputs": [
    {
     "name": "stdout",
     "output_type": "stream",
     "text": [
      "Array from 10 to 60 with step 5:\n",
      " [10 15 20 25 30 35 40 45 50 55 60]\n"
     ]
    }
   ],
   "source": [
    "arr = np.arange(10,61,5)\n",
    "print(\"Array from 10 to 60 with step 5:\\n\", arr)"
   ]
  },
  {
   "cell_type": "code",
   "execution_count": null,
   "id": "afca7882",
   "metadata": {},
   "outputs": [
    {
     "name": "stdout",
     "output_type": "stream",
     "text": [
      "Swap case: ['pYTHON' 'nUMpY' 'pandas']\n",
      "Uppercase: ['PYTHON' 'NUMPY' 'PANDAS']\n",
      "Lowercase: ['python' 'numpy' 'pandas']\n",
      "Title case: ['Python' 'Numpy' 'Pandas']\n"
     ]
    }
   ],
   "source": [
    "import numpy as np\n",
    "\n",
    "arr = np.array(['Python', 'NumPy', 'PANDAS'])\n",
    "print(\"Swap case:\", np.char.swapcase(arr))\n",
    "print(\"Uppercase:\", np.char.upper(arr))\n",
    "print(\"Lowercase:\", np.char.lower(arr))\n",
    "print(\"Title case:\", np.char.title(arr))\n"
   ]
  },
  {
   "cell_type": "code",
   "execution_count": 43,
   "id": "7eabc494",
   "metadata": {},
   "outputs": [
    {
     "name": "stdout",
     "output_type": "stream",
     "text": [
      "['hello' 'world' 'numpy']\n",
      "Words with spaces between characters: ['h e l l o' 'w o r l d' 'n u m p y']\n"
     ]
    }
   ],
   "source": [
    "arr = np.array(['hello', 'world', 'numpy'])\n",
    "print(arr)\n",
    "spaced = np.char.join(' ', arr)\n",
    "print(\"Words with spaces between characters:\", spaced)\n"
   ]
  },
  {
   "cell_type": "code",
   "execution_count": null,
   "id": "fcbbde34",
   "metadata": {},
   "outputs": [
    {
     "name": "stdout",
     "output_type": "stream",
     "text": [
      "['a-b-c' 'd:e:f' 'g*h*i']\n"
     ]
    }
   ],
   "source": [
    "\n",
    "arr = np.array(['abc', 'def', 'ghi'])\n",
    "separators = np.array(['-', ':', '*'])\n",
    "result = np.char.join(separators, arr)\n",
    "print(result) "
   ]
  },
  {
   "cell_type": "code",
   "execution_count": 56,
   "id": "d7b417ad",
   "metadata": {},
   "outputs": [
    {
     "name": "stdout",
     "output_type": "stream",
     "text": [
      "[[1 2]\n",
      " [3 4]]\n",
      "[[5 6]\n",
      " [7 8]]\n",
      "Addition:\n",
      " [[ 6  8]\n",
      " [10 12]]\n",
      "Subtraction:\n",
      " [[-4 -4]\n",
      " [-4 -4]]\n",
      "Multiplication:\n",
      " [[ 5 12]\n",
      " [21 32]]\n",
      "Division:\n",
      " [[0.2        0.33333333]\n",
      " [0.42857143 0.5       ]]\n"
     ]
    }
   ],
   "source": [
    "a = np.array([[1,2],[3,4]])\n",
    "b = np.array([[5,6],[7,8]])\n",
    "print (a)\n",
    "print(b)\n",
    "\n",
    "print(\"Addition:\\n\", a + b)\n",
    "print(\"Subtraction:\\n\", a - b)\n",
    "print(\"Multiplication:\\n\", a * b)\n",
    "print(\"Division:\\n\", a / b)"
   ]
  },
  {
   "cell_type": "code",
   "execution_count": 57,
   "id": "8ecbbdbb",
   "metadata": {},
   "outputs": [
    {
     "name": "stdout",
     "output_type": "stream",
     "text": [
      "Identity matrix:\n",
      " [[1. 0. 0. 0. 0.]\n",
      " [0. 1. 0. 0. 0.]\n",
      " [0. 0. 1. 0. 0.]\n",
      " [0. 0. 0. 1. 0.]\n",
      " [0. 0. 0. 0. 1.]]\n",
      "Diagonal elements: [1. 1. 1. 1. 1.]\n"
     ]
    }
   ],
   "source": [
    "identity = np.identity(5)\n",
    "print(\"Identity matrix:\\n\", identity)\n",
    "\n",
    "diagonal = np.diag(identity)\n",
    "print(\"Diagonal elements:\", diagonal)\n"
   ]
  },
  {
   "cell_type": "markdown",
   "id": "441a9c5b",
   "metadata": {},
   "source": [
    "Alternatively, you can use np.eye() to create an identity matrix, which also allows for creating matrices with ones on a specified diagonal:"
   ]
  },
  {
   "cell_type": "code",
   "execution_count": 62,
   "id": "b985f25e",
   "metadata": {},
   "outputs": [
    {
     "name": "stdout",
     "output_type": "stream",
     "text": [
      "[[1. 0. 0. 0. 0.]\n",
      " [0. 1. 0. 0. 0.]\n",
      " [0. 0. 1. 0. 0.]\n",
      " [0. 0. 0. 1. 0.]\n",
      " [0. 0. 0. 0. 1.]]\n",
      "Diagonal elements: [1. 1. 1. 1. 1.]\n",
      "[[1 0 0]\n",
      " [0 1 0]\n",
      " [0 0 1]]\n"
     ]
    }
   ],
   "source": [
    "I = np.eye(5)\n",
    "print(I)\n",
    "diagonal = np.diag(I)\n",
    "print(\"Diagonal elements:\", diagonal)\n",
    "\n",
    "#you can specify dtype also in both eye and identity \n",
    "\n",
    "matrix = np.eye(3, dtype=int)\n",
    "print(matrix)\n"
   ]
  },
  {
   "cell_type": "code",
   "execution_count": 75,
   "id": "d5a8441b",
   "metadata": {},
   "outputs": [
    {
     "name": "stdout",
     "output_type": "stream",
     "text": [
      "Random Array:\n",
      " [158 444 151 323 485 478  60 298 182 258 299 527 751 384 766 208 752 512\n",
      " 913 815 748  82 919 293 184 236 733 153 875 189 313 547 282 400 819  29\n",
      " 665 891 860 419 579 930 457 767 895 964 901 970 677 961 281  24 535 602\n",
      " 828 723 465 555 889 147 367 408 691 937 306 212 324 618 300 168 287 739\n",
      " 951 309 609 299 143 900  36 959 318 722 321 346  16 353 922 404 490 523\n",
      " 718 442 842 979 960  19 370 147 348 100]\n"
     ]
    }
   ],
   "source": [
    "arr = np.random.randint(0, 1001, size = 100)\n",
    "print(\"Random Array:\\n\", arr)"
   ]
  },
  {
   "cell_type": "code",
   "execution_count": 76,
   "id": "6ade6408",
   "metadata": {},
   "outputs": [
    {
     "name": "stdout",
     "output_type": "stream",
     "text": [
      "Prime numbers in the array: [103  89 239  89 293  43 353 307 617 449  89 719 193 569  37 617 947]\n"
     ]
    }
   ],
   "source": [
    "def is_prime(n):\n",
    "    if n < 2:\n",
    "        return False\n",
    "    for i in range(2, n):\n",
    "        if n % i == 0:\n",
    "            return False\n",
    "    return True\n",
    "\n",
    "\n",
    "arr = np.random.randint(0, 1001, 100)\n",
    "primes = np.array([num for num in arr if is_prime(num)])\n",
    "print(\"Prime numbers in the array:\", primes)"
   ]
  },
  {
   "cell_type": "code",
   "execution_count": 68,
   "id": "5a480edf",
   "metadata": {},
   "outputs": [
    {
     "name": "stdout",
     "output_type": "stream",
     "text": [
      "Daily temperatures:\n",
      " [30.97944454 20.12853013 30.95697365 29.13522728 37.76096112 37.99063\n",
      " 23.61990655 36.43418492 38.31009403 31.15241365 25.09680858 30.2291699\n",
      " 23.02379084 20.69141954 31.00848706 34.00689005 24.92718722 38.2070138\n",
      " 39.69919305 31.06295367 33.81818997 35.15536522 21.48018045 39.16010501\n",
      " 32.43590254 25.71558949 20.17657713 23.92773164 36.73341375 25.23379534]\n",
      "Weekly averages: [30.08166761 29.27684021 33.24713069 28.2930645 ]\n",
      "Average of remaining days: 30.983604543980547\n"
     ]
    }
   ],
   "source": [
    "# Assuming 30 days in a month\n",
    "daily_temps = np.random.uniform(low=20.0, high=40.0, size=30)\n",
    "print(\"Daily temperatures:\\n\", daily_temps)\n",
    "\n",
    "# Reshape into weeks (4 weeks of 7 days and 2 extra days)\n",
    "weeks = daily_temps[:28].reshape(4, 7)\n",
    "weekly_averages = weeks.mean(axis=1)\n",
    "print(\"Weekly averages:\", weekly_averages)\n",
    "\n",
    "# Handle remaining days\n",
    "if len(daily_temps) > 28:\n",
    "    remaining_avg = daily_temps[28:].mean()\n",
    "    print(\"Average of remaining days:\", remaining_avg)\n"
   ]
  },
  {
   "cell_type": "markdown",
   "id": "6475e74c",
   "metadata": {},
   "source": [
    "Theoretical Questions:\n",
    "1. Explain the purpose and advantages of NumPy in scientific computing and data analysis. How does it\n",
    "enhance Python's capabilities for numerical operations?\n",
    "\n",
    "\n",
    "2. Compare and contrast np.mean() and np.average() functions in NumPy. When would you use one over the\n",
    "other?\n",
    "\n",
    "\n",
    "3. Describe the methods for reversing a NumPy array along different axes. Provide examples for 1D and 2D\n",
    "arrays.\n",
    "\n",
    "\n",
    "4. How can you determine the data type of elements in a NumPy array? Discuss the importance of data types\n",
    "in memory management and performance.\n",
    "\n",
    "\n",
    "5. Define ndarrays in NumPy and explain their key features. How do they differ from standard Python lists?\n",
    "\n",
    "\n",
    "6. Analyze the performance benefits of NumPy arrays over Python lists for large-scale numerical operations.\n",
    "\n",
    "\n",
    "7. Compare vstack() and hstack() functions in NumPy. Provide examples demonstrating their usage and\n",
    "output.\n",
    "\n",
    "\n",
    "8. Explain the differences between fliplr() and flipud() methods in NumPy, including their effects on various\n",
    "array dimensions.\n",
    "\n",
    "\n",
    "9. Discuss the functionality of the array_split() method in NumPy. How does it handle uneven splits?\n",
    "\n",
    "\n",
    "10. Explain the concepts of vectorization and broadcasting in NumPy. How do they contribute to efficient array\n",
    "operations?"
   ]
  },
  {
   "cell_type": "markdown",
   "id": "a2edd47d",
   "metadata": {},
   "source": [
    "# 1. Purpose and Advantages of NumPy in Scientific Computing and Data Analysis"
   ]
  },
  {
   "cell_type": "markdown",
   "id": "b1c63406",
   "metadata": {},
   "source": [
    "\n",
    "\n",
    "NumPy is a fundamental library for numerical computations in Python. \n",
    "It offers:\n",
    "\n",
    "Efficient Multidimensional Arrays: Provides ndarray, a powerful N-dimensional array object.\n",
    "\n",
    "Performance: Operations are implemented in C, leading to faster computations compared to native Python lists.\n",
    "\n",
    "Broad Functionality: Includes tools for linear algebra, Fourier transforms, and random number generation.\n",
    "\n",
    "Interoperability: Integrates seamlessly with other libraries like SciPy, Pandas, and Matplotlib.\n",
    "\n",
    "These features make NumPy indispensable for tasks ranging from data analysis to scientific simulations.\n",
    "\n",
    "# 2. Comparing np.mean() and np.average()\n",
    "np.mean(): Calculates the arithmetic mean of array elements.\n",
    "\n",
    "np.average(): Also computes the mean but allows for weighted averages through the weights parameter.\n",
    "\n",
    "Usage:\n",
    "\n",
    "Use np.mean() for simple averages.\n",
    "\n",
    "Use np.average() when different elements contribute unequally to the mean."
   ]
  },
  {
   "cell_type": "markdown",
   "id": "5b8adf9a",
   "metadata": {},
   "source": [
    "# Reversing a NumPy Array Along Different Axes \n",
    "\n",
    "# 8. Explain the differences between fliplr() and flipud() methods in NumPy, including their effects on various array dimensions.\n",
    "\n"
   ]
  },
  {
   "cell_type": "code",
   "execution_count": 80,
   "id": "7d7a3428",
   "metadata": {},
   "outputs": [
    {
     "data": {
      "text/plain": [
       "array([3, 2, 1])"
      ]
     },
     "execution_count": 80,
     "metadata": {},
     "output_type": "execute_result"
    }
   ],
   "source": [
    "import numpy as np\n",
    "arr = np.array([1, 2, 3])\n",
    "reversed_arr = np.flip(arr)  \n",
    "reversed_arr\n"
   ]
  },
  {
   "cell_type": "code",
   "execution_count": 81,
   "id": "bc0fd8e2",
   "metadata": {},
   "outputs": [
    {
     "name": "stdout",
     "output_type": "stream",
     "text": [
      "[[2 1]\n",
      " [4 3]]\n",
      "[[3 4]\n",
      " [1 2]]\n"
     ]
    }
   ],
   "source": [
    "arr = np.array([[1, 2], [3, 4]])\n",
    "reversed_rows = np.flip(arr, axis=0)  # Flip rows\n",
    "reversed_cols = np.flip(arr, axis=1) # Flip columns\n",
    "print(reversed_cols)\n",
    "print(reversed_rows)\n",
    "#The np.flip() function reverses the order of elements along the specified axis."
   ]
  },
  {
   "cell_type": "code",
   "execution_count": 92,
   "id": "c5e823aa",
   "metadata": {},
   "outputs": [
    {
     "name": "stdout",
     "output_type": "stream",
     "text": [
      "[[1. 0. 0.]\n",
      " [0. 2. 0.]\n",
      " [0. 0. 3.]]\n",
      "[[0. 0. 3.]\n",
      " [0. 2. 0.]\n",
      " [1. 0. 0.]]\n",
      "[[1. 0. 0.]\n",
      " [0. 2. 0.]\n",
      " [0. 0. 3.]]\n",
      "[[0. 0. 1.]\n",
      " [0. 2. 0.]\n",
      " [3. 0. 0.]]\n"
     ]
    }
   ],
   "source": [
    "#The numpy.flipud() function flips an array in the up/down direction, which corresponds to reversing the order of elements along axis 0.\n",
    "import numpy as np\n",
    "\n",
    "A = np.diag([1.0, 2, 3])\n",
    "print(A)\n",
    "\n",
    "print(np.flipud(A))\n",
    "\n",
    "\n",
    "#The numpy.fliplr() function flips an array in the left/right direction, which corresponds to reversing the order of elements along axis 1\n",
    "\n",
    "\n",
    "A = np.diag([1., 2., 3.])\n",
    "print(A)\n",
    "print(np.fliplr(A))\n"
   ]
  },
  {
   "cell_type": "code",
   "execution_count": 93,
   "id": "797cdacd",
   "metadata": {},
   "outputs": [
    {
     "name": "stdout",
     "output_type": "stream",
     "text": [
      "[5 4 3 2 1]\n"
     ]
    }
   ],
   "source": [
    "#SLICING\n",
    "\n",
    "A = np.array([1, 2, 3, 4, 5])\n",
    "print(A[::-1])\n"
   ]
  },
  {
   "cell_type": "markdown",
   "id": "01f804c6",
   "metadata": {},
   "source": [
    "\n",
    "# 4. How can you determine the data type of elements in a NumPy array? Discuss the importance of data types in memory management and performance.\n",
    "\n",
    "Importance of Data Types in Memory Management and Performance\n",
    "Data types play a crucial role in NumPy's memory management and performance optimization:\n",
    "\n",
    "Memory Efficiency: Each dtype has a fixed size, allowing NumPy to allocate memory efficiently. For instance, int32 consumes 4 bytes per element, while float64 consumes 8 bytes. Choosing an appropriate dtype can significantly reduce memory usage, especially in large datasets.\n",
    "\n",
    "Performance Optimization: Operations on arrays with smaller or more suitable data types can be faster. For example, using float32 instead of float64 can lead to faster computations and reduced memory bandwidth usage, which is beneficial in performance-critical applications.\n",
    "\n",
    "Compatibility and Type Safety: Specifying data types ensures that operations are performed correctly and consistently. For example, operations between arrays of different data types may lead to unexpected results or require type casting, which can be avoided by ensuring compatible dtypes.\n",
    "\n",
    "Interfacing with External Libraries: When interfacing with C or Fortran libraries, specifying the correct dtype ensures that data is interpreted correctly, preventing errors and potential crashes.\n",
    "\n",
    "In summary, understanding and selecting appropriate data types in NumPy is essential for optimizing memory usage and computational performance, especially when working with large datasets or performing complex numerical computations."
   ]
  },
  {
   "cell_type": "code",
   "execution_count": 95,
   "id": "c2a322dd",
   "metadata": {},
   "outputs": [
    {
     "name": "stdout",
     "output_type": "stream",
     "text": [
      "int32\n"
     ]
    }
   ],
   "source": [
    "arr = np.array([1, 2, 3])\n",
    "print(arr.dtype) \n"
   ]
  },
  {
   "cell_type": "markdown",
   "id": "9408ca03",
   "metadata": {},
   "source": [
    "#  Define ndarrays in NumPy and explain their key features. How do they differ from standard Python lists?\n",
    "\n",
    "In NumPy, the ndarray (short for \"N-dimensional array\") is the core data structure designed for efficient numerical and scientific computing. It is a homogeneous, multidimensional container that allows for fast and memory-efficient operations on large datasets.\n",
    "\n",
    "\n",
    " Key Features of NumPy ndarray\n",
    "Homogeneous Data Type: All elements in an ndarray must be of the same type, specified by a dtype (data type) object. This uniformity enables efficient storage and computation.\n",
    "\n",
    "Multidimensional: ndarray supports arrays of any dimension, from 1D vectors to N-dimensional matrices, facilitating complex data representations.\n",
    "\n",
    "Fixed Size: Once created, the size of an ndarray is immutable. To change its size, a new array must be created.\n",
    "\n",
    "Contiguous Memory Layout: Elements are stored in contiguous blocks of memory, which enhances performance for numerical computations.\n",
    "\n",
    "Vectorized Operations: Supports element-wise operations without the need for explicit loops, leveraging optimized C and Fortran libraries under the hood.\n",
    "\n",
    "Broadcasting: Allows for arithmetic operations between arrays of different shapes, automatically expanding the smaller array to match the larger one.\n",
    "\n",
    "Memory Views: Multiple ndarray objects can share the same data buffer, enabling efficient memory usage and data manipulation."
   ]
  },
  {
   "cell_type": "markdown",
   "id": "427ffd9d",
   "metadata": {},
   "source": [
    "| Feature                      | NumPy `ndarray`                                                               | Python List                                                                |                                   |\n",
    "| ---------------------------- | ----------------------------------------------------------------------------- | -------------------------------------------------------------------------- | --------------------------------- |\n",
    "| **Data Type**                | Homogeneous (all elements must be of the same type)                           | Heterogeneous (can contain elements of different types)                    |                                   |\n",
    "| **Memory Layout**            | Contiguous memory allocation, leading to efficient access and computation     | Non-contiguous; elements are references to objects, leading to overhead    |                                   |\n",
    "| **Performance**              | Optimized for numerical operations; faster and more memory-efficient          | Slower for numerical computations due to overhead                          |                                   |\n",
    "| **Multidimensional Support** | Native support for multi-dimensional arrays (e.g., matrices, tensors)         | Can simulate multi-dimensional structures, but less efficient              |                                   |\n",
    "| **Element-wise Operations**  | Supports vectorized operations (e.g., `array + array`) without explicit loops | Requires explicit loops or list comprehensions for element-wise operations |                                   |\n",
    "| **Size Mutability**          | Fixed size; resizing requires creating a new array                            | Dynamic size; elements can be added or removed                             |                                   |\n",
    "| **Use Case**                 | Ideal for numerical and scientific computing tasks                            | Suitable for general-purpose programming                         \n",
    "\n",
    "\n"
   ]
  },
  {
   "cell_type": "markdown",
   "id": "b356c997",
   "metadata": {},
   "source": [
    "# 6. Analyze the performance benefits of NumPy arrays over Python lists for large-scale numerical operations\n",
    "\n",
    " Performance Benefits of NumPy Arrays\n",
    "1. Execution Speed\n",
    "Vectorized Operations: NumPy's core operations are implemented in C, allowing for efficient execution of vectorized operations without the need for explicit loops. This leads to substantial speed improvements over Python lists, which require manual iteration for element-wise computations.\n",
    "\n",
    "Benchmarking Results: In various benchmarks, NumPy has demonstrated up to a 50x performance improvement over Python lists for operations like element-wise multiplication on large datasets.\n",
    "\n",
    "2. Memory Efficiency\n",
    "Contiguous Memory Allocation: NumPy arrays store data in contiguous blocks of memory, reducing overhead and improving cache performance. This is in contrast to Python lists, where each element is a reference to an object, leading to higher memory consumption.\n",
    "\n",
    "Reduced Memory Overhead: For large datasets, NumPy arrays consume significantly less memory compared to Python lists, making them more suitable for memory-intensive applications. \n",
    "LinkedIn\n",
    "\n",
    "3. Optimized Computation\n",
    "Built-in Mathematical Functions: NumPy provides a wide range of optimized mathematical functions that operate directly on arrays, eliminating the need for manual implementation of algorithms.\n",
    "\n",
    "Integration with Low-Level Libraries: NumPy leverages optimized low-level libraries like BLAS and LAPACK for linear algebra operations, further enhancing computational efficiency"
   ]
  },
  {
   "cell_type": "markdown",
   "id": "6741b605",
   "metadata": {},
   "source": [
    "# 7. Compare vstack() and hstack() functions in NumPy. Provide examples demonstrating their usage and OUTPUT\n",
    "\n",
    "np.vstack(): Vertical Stack (Row-wise Concatenation)\n",
    "Purpose: Stacks arrays vertically, i.e., adds rows to an existing array.\n",
    "\n",
    "Axis: Concatenates along axis=0.\n",
    "\n",
    "Shape Requirement: Input arrays must have the same number of columns\n",
    "\n",
    "np.hstack(): Horizontal Stack (Column-wise Concatenation)\n",
    "Purpose: Stacks arrays horizontally, i.e., adds columns to an existing array.\n",
    "\n",
    "Axis: Concatenates along axis=1.\n",
    "\n",
    "Shape Requirement: Input arrays must have the same number of rows."
   ]
  },
  {
   "cell_type": "code",
   "execution_count": null,
   "id": "12d7f3aa",
   "metadata": {},
   "outputs": [
    {
     "data": {
      "text/plain": [
       "array([[1, 2],\n",
       "       [3, 4]])"
      ]
     },
     "execution_count": 97,
     "metadata": {},
     "output_type": "execute_result"
    }
   ],
   "source": [
    "a = np.array([1, 2])\n",
    "b = np.array([3, 4])\n",
    "np.vstack((a, b))  \n"
   ]
  },
  {
   "cell_type": "code",
   "execution_count": null,
   "id": "d28b3f47",
   "metadata": {},
   "outputs": [
    {
     "name": "stdout",
     "output_type": "stream",
     "text": [
      "[[1 3]\n",
      " [2 4]]\n",
      "[1 2 3 4 5 6]\n"
     ]
    }
   ],
   "source": [
    "a = np.array([[1], [2]])\n",
    "b = np.array([[3], [4]])\n",
    "print(np.hstack((a , b)))  \n",
    " \n",
    "a = np.array([1, 2, 3])\n",
    "b = np.array([4, 5, 6])\n",
    "\n",
    "result = np.hstack((a, b))\n",
    "print(result)\n"
   ]
  },
  {
   "cell_type": "markdown",
   "id": "de97eb33",
   "metadata": {},
   "source": [
    "# 9. Discuss the functionality of the array_split() method in NumPy. How does it handle uneven splits?\n",
    "\n",
    "In NumPy, the array_split() function is designed to divide an array into multiple sub-arrays. Unlike split(), which requires the array to be evenly divisible, array_split() can handle cases where the array cannot be evenly divided, ensuring that the division is as equal as possible.\n",
    "\n",
    "ary: The input array to be split.\n",
    "\n",
    "indices_or_sections: If an integer is provided, it specifies the number of equal (or nearly equal) sub-arrays to return.\n",
    "\n",
    "axis: The axis along which to split. Default is 0 (vertical split).\n",
    "\n",
    "Handling Uneven Splits:\n",
    "When the array cannot be evenly divided, np.array_split() distributes the elements as evenly as possible. The first few sub-arrays will have one more element than the others until all elements are allocated.\n",
    "\n",
    "Example:"
   ]
  },
  {
   "cell_type": "markdown",
   "id": "cd5cfa6c",
   "metadata": {},
   "source": [
    "This function is useful when the array cannot be divided evenly."
   ]
  },
  {
   "cell_type": "code",
   "execution_count": 104,
   "id": "ae5cfee1",
   "metadata": {},
   "outputs": [
    {
     "data": {
      "text/plain": [
       "[array([1, 2]), array([3, 4]), array([5])]"
      ]
     },
     "execution_count": 104,
     "metadata": {},
     "output_type": "execute_result"
    }
   ],
   "source": [
    "arr = np.array([1, 2, 3, 4, 5])\n",
    "np.array_split(arr, 3)  # Output: [array([1, 2]), array([3, 4]), array([5])]\n"
   ]
  },
  {
   "cell_type": "code",
   "execution_count": 107,
   "id": "d0b31e47",
   "metadata": {},
   "outputs": [
    {
     "name": "stdout",
     "output_type": "stream",
     "text": [
      "[array([0, 1, 2, 3]), array([4, 5, 6]), array([7, 8, 9]), array([10, 11, 12])]\n"
     ]
    }
   ],
   "source": [
    "arr = np.arange(13)\n",
    "result = np.array_split(arr, 4)\n",
    "print(result)"
   ]
  },
  {
   "cell_type": "markdown",
   "id": "c3ae21ac",
   "metadata": {},
   "source": [
    "In this example, the array is split into 4 sub-arrays. The first three sub-arrays contain 4 elements each, while the last one contains 1 element, demonstrating how np.array_split() handles uneven splits by distributing the remainder across the initial sub-arrays."
   ]
  },
  {
   "cell_type": "markdown",
   "id": "ebcc1f72",
   "metadata": {},
   "source": [
    "# 10. Explain the concepts of vectorization and broadcasting in NumPy. How do they contribute to efficient array operations?\n",
    "\n",
    "Definition: Vectorization refers to the practice of replacing explicit Python loops with array-wide operations, allowing NumPy to perform computations over entire arrays at once.\n",
    "Medium\n",
    "\n",
    "How It Works: NumPy operations like np.add(), np.multiply(), and np.sum() are implemented in C, enabling them to execute much faster than equivalent Python loops.\n",
    "\n",
    "Benefits:\n",
    "\n",
    "Performance: Operations are executed in compiled C code, significantly reducing execution time.\n",
    "\n",
    "Code Simplicity: Eliminates the need for explicit loops, leading to cleaner and more readable code.\n",
    "\n",
    "Memory Efficiency: Reduces memory overhead by avoiding the creation of intermediate variables.\n",
    "\n",
    "\n",
    "Broadcasting: Aligning Arrays of Different Shapes\n",
    "Definition: Broadcasting is a set of rules that NumPy follows to perform element-wise operations on arrays of different shapes. It automatically expands the dimensions of smaller arrays to match the larger ones without making unnecessary copies of data.\n",
    "GeeksforGeeks\n",
    "\n",
    "How It Works: When performing operations between arrays of different shapes, NumPy compares their dimensions starting from the trailing (rightmost) dimensions. Two dimensions are compatible when:\n",
    "\n",
    "If these conditions are met, NumPy \"broadcasts\" the smaller array across the larger one.\n",
    "\n",
    "\n",
    "Benefits:\n",
    "\n",
    "Efficiency: Eliminates the need for explicit loops and reshaping, leading to more concise and efficient code.\n",
    "\n",
    "Memory Conservation: Avoids creating large temporary arrays by performing operations in-place.\n",
    "\n",
    "Flexibility: Allows for operations between arrays of different shapes without manual alignment."
   ]
  },
  {
   "cell_type": "code",
   "execution_count": null,
   "id": "3e7259e0",
   "metadata": {},
   "outputs": [],
   "source": [
    "arr = np.array([1, 2, 3])\n",
    "arr_squared = arr ** 2  # Output: [1 4 9]\n",
    "#Vectorization: Refers to performing operations on entire arrays without explicit loops."
   ]
  },
  {
   "cell_type": "code",
   "execution_count": null,
   "id": "d9918d67",
   "metadata": {},
   "outputs": [
    {
     "data": {
      "text/plain": [
       "array([[11, 21, 31],\n",
       "       [12, 22, 32],\n",
       "       [13, 23, 33]])"
      ]
     },
     "execution_count": 109,
     "metadata": {},
     "output_type": "execute_result"
    }
   ],
   "source": [
    "arr = np.array([[1], [2], [3]])\n",
    "arr + np.array([10, 20, 30])  # Output: [[11 21 31], [12 22 32], [13 23 33]]\n",
    "#Broadcasting: Allows operations between arrays of different shapes by automatically expanding their dimensions to match."
   ]
  },
  {
   "cell_type": "code",
   "execution_count": 110,
   "id": "14303a59",
   "metadata": {},
   "outputs": [
    {
     "name": "stdout",
     "output_type": "stream",
     "text": [
      "[[11 22]\n",
      " [13 24]]\n"
     ]
    }
   ],
   "source": [
    "import numpy as np\n",
    "\n",
    "a = np.array([[1, 2], [3, 4]])\n",
    "b = np.array([10, 20])\n",
    "\n",
    "# Broadcasting b to match the shape of a\n",
    "result = a + b\n",
    "print(result)\n"
   ]
  },
  {
   "cell_type": "code",
   "execution_count": 111,
   "id": "6fe76ac8",
   "metadata": {},
   "outputs": [
    {
     "name": "stdout",
     "output_type": "stream",
     "text": [
      "[5 7 9]\n"
     ]
    }
   ],
   "source": [
    "import numpy as np\n",
    "\n",
    "a = np.array([1, 2, 3])\n",
    "b = np.array([4, 5, 6])\n",
    "\n",
    "# Vectorized addition\n",
    "result = np.add(a, b)\n",
    "print(result)\n"
   ]
  },
  {
   "cell_type": "code",
   "execution_count": null,
   "id": "85ef910f",
   "metadata": {},
   "outputs": [],
   "source": []
  }
 ],
 "metadata": {
  "kernelspec": {
   "display_name": "base",
   "language": "python",
   "name": "python3"
  },
  "language_info": {
   "codemirror_mode": {
    "name": "ipython",
    "version": 3
   },
   "file_extension": ".py",
   "mimetype": "text/x-python",
   "name": "python",
   "nbconvert_exporter": "python",
   "pygments_lexer": "ipython3",
   "version": "3.12.7"
  }
 },
 "nbformat": 4,
 "nbformat_minor": 5
}
